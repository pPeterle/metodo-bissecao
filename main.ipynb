{
 "cells": [
  {
   "cell_type": "markdown",
   "metadata": {},
   "source": [
    "# Método da Bisseção"
   ]
  },
  {
   "cell_type": "markdown",
   "metadata": {},
   "source": [
    "1. Resumo\n",
    "2. Explicar Código\n",
    "3. Exemplo Genérico\n",
    "4. Exemplo Aplicado\n",
    "5. Código Scipy (Bônus)"
   ]
  },
  {
   "cell_type": "markdown",
   "metadata": {},
   "source": [
    "## Código"
   ]
  },
  {
   "cell_type": "code",
   "execution_count": 39,
   "metadata": {},
   "outputs": [],
   "source": [
    "import numpy as np; # ferramentas matemáticas\n",
    "import matplotlib.pyplot as plt; # gráfico\n",
    "from scipy import optimize # calcular método da bisseção"
   ]
  },
  {
   "cell_type": "code",
   "execution_count": 40,
   "metadata": {},
   "outputs": [],
   "source": [
    "def calcularRaiz(a, b, erro):\n",
    "    numeroRepeticoes = (np.log(b-a) - np.log(erro))/np.log(2)\n",
    "    numeroRepeticoes = np.ceil(numeroRepeticoes) # proximo número inteiro\n",
    "\n",
    "    print(\"=\"*40)\n",
    "    print(\"Valor das iterações\")\n",
    "    print(\"=\"*40)\n",
    "    i = 0\n",
    "    pontos = []\n",
    "\n",
    "    raiz = optimize.bisect(f, a, b);\n",
    "    print(f'Resposta pelo scipy: {round(raiz, 6)}')\n",
    "\n",
    "    while i < numeroRepeticoes:\n",
    "        if f(a)*f(b) > 0: # Teorema de Bolzano\n",
    "            print('Não podemos afirmar se há raiz nesse intervalo')\n",
    "            return\n",
    "        else: \n",
    "            pontoMedio = (a+b)/2\n",
    "            pontoMedio = round(pontoMedio, 6)\n",
    "            pontos.append(pontoMedio)\n",
    "\n",
    "            if f(a)*f(pontoMedio) < 0:\n",
    "                b = pontoMedio\n",
    "            else:\n",
    "                a = pontoMedio\n",
    "\n",
    "        diferencaAB = round(np.abs(a - b), 6)\n",
    "        print(f'valor de x__{i + 1} = {pontoMedio} diferença entre a e b {diferencaAB}')\n",
    "        i += 1\n",
    "\n",
    "    print(f'\\no valor aproximado da raiz é {pontoMedio}')\n",
    "    # plot(pontos)\n",
    "    \n",
    "    return pontoMedio\n"
   ]
  },
  {
   "cell_type": "markdown",
   "metadata": {},
   "source": [
    "#### Montar o Gráfico"
   ]
  },
  {
   "cell_type": "code",
   "execution_count": 41,
   "metadata": {},
   "outputs": [],
   "source": [
    "def plot(pontos):\n",
    "    x = np.arange(1.0, 2.0, 0.00001)\n",
    "\n",
    "    plt.figure()\n",
    "    plt.grid()\n",
    "    plt.plot(x,f(x),'b--')\n",
    "    posicao = 0\n",
    "    for x in pontos: \n",
    "        plt.plot(x, f(x), 'ro')\n",
    "        nome = '$x_' + str(posicao + 1) + '$'\n",
    "        plt.text(x ,f(x) + 0.5,nome,fontsize=12)\n",
    "        posicao = posicao + 1\n",
    "        \n",
    "    \n",
    "\n",
    "    plt.xlim(min(pontos) - 0.1, max(pontos) + 0.1)"
   ]
  },
  {
   "cell_type": "markdown",
   "metadata": {},
   "source": [
    "### Exemplo Genérico\n",
    "Achar valor aproximado da raiz de 2"
   ]
  },
  {
   "cell_type": "code",
   "execution_count": 42,
   "metadata": {},
   "outputs": [
    {
     "name": "stdout",
     "output_type": "stream",
     "text": [
      "========================================\n",
      "Valor das iterações\n",
      "========================================\n",
      "Resposta pelo scipy: 1.414214\n",
      "valor de x__1 = 1.5 diferença entre a e b 0.5\n",
      "valor de x__2 = 1.25 diferença entre a e b 0.25\n",
      "valor de x__3 = 1.375 diferença entre a e b 0.125\n",
      "valor de x__4 = 1.4375 diferença entre a e b 0.0625\n",
      "valor de x__5 = 1.40625 diferença entre a e b 0.03125\n",
      "valor de x__6 = 1.421875 diferença entre a e b 0.015625\n",
      "valor de x__7 = 1.414062 diferença entre a e b 0.007813\n",
      "valor de x__8 = 1.417968 diferença entre a e b 0.003906\n",
      "valor de x__9 = 1.416015 diferença entre a e b 0.001953\n",
      "valor de x__10 = 1.415039 diferença entre a e b 0.000977\n",
      "valor de x__11 = 1.41455 diferença entre a e b 0.000488\n",
      "valor de x__12 = 1.414306 diferença entre a e b 0.000244\n",
      "valor de x__13 = 1.414184 diferença entre a e b 0.000122\n",
      "valor de x__14 = 1.414245 diferença entre a e b 6.1e-05\n",
      "\n",
      "o valor aproximado da raiz é 1.414245\n"
     ]
    },
    {
     "data": {
      "text/plain": [
       "1.414245"
      ]
     },
     "execution_count": 42,
     "metadata": {},
     "output_type": "execute_result"
    }
   ],
   "source": [
    "def f(x):\n",
    "    y = x**2 - 2\n",
    "    return y\n",
    "\n",
    "calcularRaiz(1, 2, 0.0001)\n"
   ]
  },
  {
   "cell_type": "markdown",
   "metadata": {},
   "source": [
    "#### Achar primeiro ponto de mínimo local em um determinado intervalo\n",
    "![](formula1.png)"
   ]
  },
  {
   "cell_type": "code",
   "execution_count": 68,
   "metadata": {},
   "outputs": [
    {
     "name": "stdout",
     "output_type": "stream",
     "text": [
      "========================================\n",
      "Valor das iterações\n",
      "========================================\n",
      "Resposta pelo scipy: -3.90647\n",
      "valor de x__1 = -2.5 diferença entre a e b 2.5\n",
      "valor de x__2 = -3.75 diferença entre a e b 1.25\n",
      "valor de x__3 = -4.375 diferença entre a e b 0.625\n",
      "valor de x__4 = -4.0625 diferença entre a e b 0.3125\n",
      "valor de x__5 = -3.90625 diferença entre a e b 0.15625\n",
      "valor de x__6 = -3.984375 diferença entre a e b 0.078125\n",
      "valor de x__7 = -3.945312 diferença entre a e b 0.039062\n",
      "valor de x__8 = -3.925781 diferença entre a e b 0.019531\n",
      "valor de x__9 = -3.916016 diferença entre a e b 0.009766\n",
      "valor de x__10 = -3.911133 diferença entre a e b 0.004883\n",
      "valor de x__11 = -3.908691 diferença entre a e b 0.002441\n",
      "valor de x__12 = -3.907471 diferença entre a e b 0.001221\n",
      "valor de x__13 = -3.906861 diferença entre a e b 0.000611\n",
      "\n",
      "o valor aproximado da raiz é -3.906861\n",
      "-3.906861 é um ponto de mínino da função\n"
     ]
    }
   ],
   "source": [
    "def f(x): \n",
    "    y = 2*np.cos(x) - (np.sin(x)+np.cos(x))/np.exp(x)\n",
    "    return y\n",
    "\n",
    "def f2(x):\n",
    "    y = -2*np.sin(x)+(2*np.sin(x))/np.exp(x)\n",
    "    return y\n",
    "\n",
    "\n",
    "raiz = calcularRaiz(-5, 0, 0.001)\n",
    "\n",
    "if f2(raiz) > 0 :\n",
    "    print(f\"{raiz} é um ponto de mínino da função\")\n",
    "elif f2(raiz) < 0:\n",
    "    print(f\"{raiz} é um ponto de mínino da função\")\n",
    "else:\n",
    "    print(f'{raiz} Ponto de Inflexão')\n"
   ]
  },
  {
   "cell_type": "markdown",
   "metadata": {},
   "source": [
    "![](grafico.png)"
   ]
  },
  {
   "cell_type": "markdown",
   "metadata": {},
   "source": [
    "## Exemplo Prático\n",
    "\n",
    "O problema é da área de engenharia econômica, trata de um\n",
    "investimento que será realizado por uma empresa do ramo da construção civil. Foi realizado um estudo na empresa, e constatado que a\n",
    "maneira mais eficiente de aumentar sua produção diária seria através da automação em\n",
    "determinada atividade\n",
    "\n",
    "A máquina automática de reboco irá aumentar a produção diária de 102m² para 196m²\n",
    "de paredes rebocadas. Para suprir a produção da construtora, deverão ser adquiridas 4\n",
    "máquinas automáticas, cada máquina tem um custo de 12 mil reais, totalizando 48 mil reais o\n",
    "custo de implementação de melhoria, que serão pago em 4 anos, o pagamento anual é de 18\n",
    "mil reais. A relação entre o custo do equipamento (P), o pagamento anual (A) e o número de\n",
    "anos (n) e a taxa de juros (i) é a seguinte equação:\n",
    "\n",
    "![](./formula.png)\n",
    "\n",
    "O objetivo da resolução do problema é descobrir a taxa de juros anual aplicada pela\n",
    "empresa\n"
   ]
  },
  {
   "cell_type": "code",
   "execution_count": 95,
   "metadata": {},
   "outputs": [
    {
     "name": "stdout",
     "output_type": "stream",
     "text": [
      "========================================\n",
      "Valor das iterações\n",
      "========================================\n",
      "valor de x__1 = 0.5 diferença entre a e b 0.49\n",
      "valor de x__2 = 0.255 diferença entre a e b 0.245\n",
      "valor de x__3 = 0.1325 diferença entre a e b 0.1225\n",
      "valor de x__4 = 0.19375 diferença entre a e b 0.06125\n",
      "valor de x__5 = 0.163125 diferença entre a e b 0.030625\n",
      "valor de x__6 = 0.178437 diferença entre a e b 0.015313\n",
      "valor de x__7 = 0.186094 diferença entre a e b 0.007657\n",
      "valor de x__8 = 0.182266 diferença entre a e b 0.003828\n",
      "valor de x__9 = 0.18418 diferença entre a e b 0.001914\n",
      "valor de x__10 = 0.185137 diferença entre a e b 0.000957\n",
      "valor de x__11 = 0.184659 diferença entre a e b 0.000479\n",
      "valor de x__12 = 0.18442 diferença entre a e b 0.000239\n",
      "valor de x__13 = 0.184539 diferença entre a e b 0.000119\n",
      "valor de x__14 = 0.18448 diferença entre a e b 5.9e-05\n",
      "valor de x__15 = 0.184509 diferença entre a e b 2.9e-05\n",
      "valor de x__16 = 0.184495 diferença entre a e b 1.4e-05\n",
      "valor de x__17 = 0.184502 diferença entre a e b 7e-06\n",
      "\n",
      "o valor aproximado da raiz é 0.184502\n"
     ]
    }
   ],
   "source": [
    "def f(x):\n",
    "    y = (48000*x*((1+x)**4)/(((1+x)**4)-1))-18000\n",
    "    return y\n",
    "\n",
    "calcularRaiz(0.01, 0.99, 0.00001)"
   ]
  }
 ],
 "metadata": {
  "interpreter": {
   "hash": "aee8b7b246df8f9039afb4144a1f6fd8d2ca17a180786b69acc140d282b71a49"
  },
  "kernelspec": {
   "display_name": "Python 3.9.4 64-bit",
   "language": "python",
   "name": "python3"
  },
  "language_info": {
   "codemirror_mode": {
    "name": "ipython",
    "version": 3
   },
   "file_extension": ".py",
   "mimetype": "text/x-python",
   "name": "python",
   "nbconvert_exporter": "python",
   "pygments_lexer": "ipython3",
   "version": "3.9.10"
  },
  "orig_nbformat": 4
 },
 "nbformat": 4,
 "nbformat_minor": 2
}
