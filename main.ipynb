{
 "cells": [
  {
   "cell_type": "markdown",
   "metadata": {},
   "source": [
    "# Método da Bisseção"
   ]
  },
  {
   "cell_type": "markdown",
   "metadata": {},
   "source": [
    "Importando bibliotecas"
   ]
  },
  {
   "cell_type": "code",
   "execution_count": 98,
   "metadata": {},
   "outputs": [],
   "source": [
    "import numpy as np;\n",
    "import matplotlib.pyplot as plt;"
   ]
  },
  {
   "cell_type": "markdown",
   "metadata": {},
   "source": [
    "### Criando função para calcular a aproximação utilizando o método da bisseção"
   ]
  },
  {
   "cell_type": "code",
   "execution_count": 99,
   "metadata": {},
   "outputs": [],
   "source": [
    "def calcularAprox(a, b, erro):\n",
    "    numeroRepeticoes = (np.log(b-a) - np.log(erro))/np.log(2)\n",
    "    numeroRepeticoes = np.ceil(numeroRepeticoes)\n",
    "\n",
    "    print(\"=\"*40)\n",
    "    print(\"Valor das iterações\")\n",
    "    print(\"=\"*40)\n",
    "    i = 0\n",
    "    pontos = []\n",
    "\n",
    "    while i < numeroRepeticoes:\n",
    "        if f(a)*f(b) > 0:\n",
    "            print('Não podemos afirmar se há raiz nesse intervalo')\n",
    "        else: \n",
    "            pontoMedio = (a+b)/2\n",
    "            pontoMedio = round(pontoMedio, 6)\n",
    "            pontos.append(pontoMedio)\n",
    "\n",
    "            if f(a)*f(pontoMedio) < 0:\n",
    "                b = pontoMedio\n",
    "            else:\n",
    "                a = pontoMedio\n",
    "        print(f'valor de x__{i + 1} = {pontoMedio}')\n",
    "        i += 1\n",
    "\n",
    "    x = np.arange(1.0, 2.0, 0.00001)\n",
    "\n",
    "    plt.figure()\n",
    "    plt.grid()\n",
    "    plt.plot(x,f(x),'b--')\n",
    "    posicao = 0\n",
    "    for x in pontos: \n",
    "        plt.plot(x, f(x), 'ro')\n",
    "        nome = '$x_' + str(posicao) + '$'\n",
    "        plt.text(x ,f(x) + 0.5,nome,fontsize=12)\n",
    "        posicao = posicao + 1\n",
    "        \n",
    "    print(f'\\no valor aproximado da raiz é {pontoMedio}')\n",
    "\n",
    "    plt.xlim(min(pontos) - 0.1, max(pontos) + 0.1)\n"
   ]
  },
  {
   "cell_type": "markdown",
   "metadata": {},
   "source": [
    "Calculando raiz da função"
   ]
  },
  {
   "cell_type": "code",
   "execution_count": 100,
   "metadata": {},
   "outputs": [
    {
     "name": "stdout",
     "output_type": "stream",
     "text": [
      "========================================\n",
      "Valor das iterações\n",
      "========================================\n",
      "valor de x__1 = 1.5\n",
      "valor de x__2 = 1.25\n",
      "valor de x__3 = 1.375\n",
      "valor de x__4 = 1.4375\n",
      "valor de x__5 = 1.40625\n",
      "valor de x__6 = 1.421875\n",
      "valor de x__7 = 1.414062\n",
      "valor de x__8 = 1.417968\n",
      "valor de x__9 = 1.416015\n",
      "valor de x__10 = 1.415039\n",
      "valor de x__11 = 1.41455\n",
      "valor de x__12 = 1.414306\n",
      "valor de x__13 = 1.414184\n",
      "valor de x__14 = 1.414245\n",
      "valor de x__15 = 1.414214\n",
      "valor de x__16 = 1.414199\n",
      "valor de x__17 = 1.414207\n",
      "\n",
      "o valor aproximado da raiz é 1.414207\n"
     ]
    },
    {
     "data": {
      "image/png": "[encoded data removed]",
      "text/plain": [
       "<Figure size 432x288 with 1 Axes>"
      ]
     },
     "metadata": {
      "needs_background": "light"
     },
     "output_type": "display_data"
    }
   ],
   "source": [
    "def f(x):\n",
    "    y = x**2 - 2\n",
    "    return y\n",
    "\n",
    "calcularAprox(1, 2, 0.00001)"
   ]
  }
 ],
 "metadata": {
  "interpreter": {
   "hash": "aee8b7b246df8f9039afb4144a1f6fd8d2ca17a180786b69acc140d282b71a49"
  },
  "kernelspec": {
   "display_name": "Python 3.9.4 64-bit",
   "language": "python",
   "name": "python3"
  },
  "language_info": {
   "codemirror_mode": {
    "name": "ipython",
    "version": 3
   },
   "file_extension": ".py",
   "mimetype": "text/x-python",
   "name": "python",
   "nbconvert_exporter": "python",
   "pygments_lexer": "ipython3",
   "version": "3.9.10"
  },
  "orig_nbformat": 4
 },
 "nbformat": 4,
 "nbformat_minor": 2
}
